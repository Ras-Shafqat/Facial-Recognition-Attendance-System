{
 "cells": [
  {
   "cell_type": "code",
   "execution_count": 1,
   "id": "219e1c0f-25a0-4b84-b330-d36e5fbe4801",
   "metadata": {},
   "outputs": [
    {
     "name": "stdout",
     "output_type": "stream",
     "text": [
      "--- STEP 1: CONVERTING YOUR MODEL ---\n"
     ]
    },
    {
     "name": "stderr",
     "output_type": "stream",
     "text": [
      "WARNING:absl:Compiled the loaded model, but the compiled metrics have yet to be built. `model.compile_metrics` will be empty until you train or evaluate the model.\n"
     ]
    },
    {
     "name": "stdout",
     "output_type": "stream",
     "text": [
      "INFO:tensorflow:Assets written to: C:\\Users\\FINELA~1\\AppData\\Local\\Temp\\tmpzv8z24a0\\assets\n"
     ]
    },
    {
     "name": "stderr",
     "output_type": "stream",
     "text": [
      "INFO:tensorflow:Assets written to: C:\\Users\\FINELA~1\\AppData\\Local\\Temp\\tmpzv8z24a0\\assets\n"
     ]
    },
    {
     "name": "stdout",
     "output_type": "stream",
     "text": [
      "Saved artifact at 'C:\\Users\\FINELA~1\\AppData\\Local\\Temp\\tmpzv8z24a0'. The following endpoints are available:\n",
      "\n",
      "* Endpoint 'serve'\n",
      "  args_0 (POSITIONAL_ONLY): TensorSpec(shape=(None, 100, 100, 1), dtype=tf.float32, name='input_layer_1')\n",
      "Output Type:\n",
      "  TensorSpec(shape=(None, 2), dtype=tf.float32, name=None)\n",
      "Captures:\n",
      "  1854275779472: TensorSpec(shape=(), dtype=tf.resource, name=None)\n",
      "  1854275780048: TensorSpec(shape=(), dtype=tf.resource, name=None)\n",
      "  1854277748112: TensorSpec(shape=(), dtype=tf.resource, name=None)\n",
      "  1854277748880: TensorSpec(shape=(), dtype=tf.resource, name=None)\n",
      "  1854275780432: TensorSpec(shape=(), dtype=tf.resource, name=None)\n",
      "  1854277750224: TensorSpec(shape=(), dtype=tf.resource, name=None)\n",
      "  1854277750800: TensorSpec(shape=(), dtype=tf.resource, name=None)\n",
      "  1854277751760: TensorSpec(shape=(), dtype=tf.resource, name=None)\n",
      "SUCCESS! Your mobile model is ready at: ./model/face_recognition_model.tflite\n"
     ]
    }
   ],
   "source": [
    "import tensorflow as tf\n",
    "import os\n",
    "\n",
    "print(\"--- STEP 1: CONVERTING YOUR MODEL ---\")\n",
    "model_path = './model/face_recognition_model.h5'\n",
    "\n",
    "if not os.path.exists(model_path):\n",
    "    print(f\"ERROR: Model file not found at '{model_path}'. Please run the training code first.\")\n",
    "else:\n",
    "    model = tf.keras.models.load_model(model_path)\n",
    "    converter = tf.lite.TFLiteConverter.from_keras_model(model)\n",
    "    tflite_model = converter.convert()\n",
    "\n",
    "    tflite_model_path = './model/face_recognition_model.tflite'\n",
    "    with open(tflite_model_path, 'wb') as f:\n",
    "        f.write(tflite_model)\n",
    "    \n",
    "    print(f\"SUCCESS! Your mobile model is ready at: {tflite_model_path}\")"
   ]
  },
  {
   "cell_type": "code",
   "execution_count": null,
   "id": "ea26fb50-9a79-45f8-aeb9-1cd34b91d9e8",
   "metadata": {},
   "outputs": [],
   "source": []
  }
 ],
 "metadata": {
  "kernelspec": {
   "display_name": "Python [conda env:base] *",
   "language": "python",
   "name": "conda-base-py"
  },
  "language_info": {
   "codemirror_mode": {
    "name": "ipython",
    "version": 3
   },
   "file_extension": ".py",
   "mimetype": "text/x-python",
   "name": "python",
   "nbconvert_exporter": "python",
   "pygments_lexer": "ipython3",
   "version": "3.13.5"
  }
 },
 "nbformat": 4,
 "nbformat_minor": 5
}
