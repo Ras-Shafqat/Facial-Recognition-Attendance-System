{
 "cells": [
  {
   "cell_type": "code",
   "execution_count": 1,
   "id": "d0ac88ee-786c-4f09-8b50-ea3930636024",
   "metadata": {},
   "outputs": [
    {
     "name": "stdout",
     "output_type": "stream",
     "text": [
      "--- Task 2: Starting... ---\n",
      "I found your saved student names. Now, I will create the labels.txt file.\n",
      "\n",
      "--- SUCCESS! ---\n",
      "I have created a new file for you here: ./model/labels.txt\n",
      "\n",
      "The file contains these names:\n",
      "- Salar Abdullah\n",
      "- Shafqat Rasool\n"
     ]
    }
   ],
   "source": [
    "import numpy as np\n",
    "import os\n",
    "\n",
    "print(\"--- Task 2: Starting... ---\")\n",
    "\n",
    "# This is the path to the file where your student names were saved during training.\n",
    "labels_path = './model/label_names.npy'\n",
    "\n",
    "# The code checks if the names file exists.\n",
    "if not os.path.exists(labels_path):\n",
    "    print(f\"ERROR: I can't find your labels file here: '{labels_path}'\")\n",
    "    print(\"Please make sure you have run the training code first.\")\n",
    "else:\n",
    "    # If the file is found, the code will create the new text file.\n",
    "    print(\"I found your saved student names. Now, I will create the labels.txt file.\")\n",
    "    \n",
    "    # 1. Load the student names from the .npy file.\n",
    "    label_names = np.load(labels_path)\n",
    "    \n",
    "    # 2. This is the name and location for our new text file.\n",
    "    labels_txt_path = './model/labels.txt'\n",
    "    \n",
    "    # 3. The code now writes the names to the new file, one name per line.\n",
    "    with open(labels_txt_path, 'w') as f:\n",
    "        for name in label_names:\n",
    "            f.write(name + '\\n')\n",
    "            \n",
    "    print(\"\\n--- SUCCESS! ---\")\n",
    "    print(f\"I have created a new file for you here: {labels_txt_path}\")\n",
    "    print(\"\\nThe file contains these names:\")\n",
    "    for name in label_names:\n",
    "        print(f\"- {name}\")"
   ]
  },
  {
   "cell_type": "code",
   "execution_count": null,
   "id": "c9d7bf90-0052-4aa9-a11f-dad89cd3ea01",
   "metadata": {},
   "outputs": [],
   "source": []
  },
  {
   "cell_type": "code",
   "execution_count": null,
   "id": "803a90f2-8cce-4aec-aa8c-b3cc63fc3a67",
   "metadata": {},
   "outputs": [],
   "source": []
  }
 ],
 "metadata": {
  "kernelspec": {
   "display_name": "Python [conda env:base] *",
   "language": "python",
   "name": "conda-base-py"
  },
  "language_info": {
   "codemirror_mode": {
    "name": "ipython",
    "version": 3
   },
   "file_extension": ".py",
   "mimetype": "text/x-python",
   "name": "python",
   "nbconvert_exporter": "python",
   "pygments_lexer": "ipython3",
   "version": "3.13.5"
  }
 },
 "nbformat": 4,
 "nbformat_minor": 5
}
