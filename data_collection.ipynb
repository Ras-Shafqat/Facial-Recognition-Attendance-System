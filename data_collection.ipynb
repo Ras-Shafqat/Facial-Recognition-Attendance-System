{
 "cells": [
  {
   "cell_type": "code",
   "execution_count": 1,
   "id": "b2262e17-9d6e-4afc-9e5d-2711d0132e9c",
   "metadata": {},
   "outputs": [],
   "source": [
    "# Imports\n",
    "import cv2\n",
    "import os\n",
    "import numpy as np\n",
    "from matplotlib import pyplot as plt\n",
    "%matplotlib inline"
   ]
  },
  {
   "cell_type": "code",
   "execution_count": 2,
   "id": "f516ffaf-0c71-4644-87d1-d1b4ff701ba6",
   "metadata": {},
   "outputs": [],
   "source": [
    "# Set up dataset folder\n",
    "dataset_path = './dataset'\n",
    "if not os.path.exists(dataset_path):\n",
    "    os.makedirs(dataset_path)"
   ]
  },
  {
   "cell_type": "code",
   "execution_count": 3,
   "id": "9ebe5292-855a-4a85-b1d6-195ab544e901",
   "metadata": {},
   "outputs": [],
   "source": [
    "# Function to capture faces\n",
    "def capture_faces(name, num_images=10):\n",
    "    face_cascade = cv2.CascadeClassifier(cv2.data.haarcascades + 'haarcascade_frontalface_default.xml')\n",
    "    cap = cv2.VideoCapture(0)\n",
    "    count = 0\n",
    "    student_folder = os.path.join(dataset_path, name)\n",
    "    if not os.path.exists(student_folder):\n",
    "        os.makedirs(student_folder)\n",
    "    \n",
    "    print(f\"Capturing {num_images} images for {name}. Press 'c' to capture, 'q' to quit.\")\n",
    "    while count < num_images:\n",
    "        ret, frame = cap.read()\n",
    "        if not ret:\n",
    "            break\n",
    "        gray = cv2.cvtColor(frame, cv2.COLOR_BGR2GRAY)\n",
    "        faces = face_cascade.detectMultiScale(gray, 1.3, 5)\n",
    "        for (x, y, w, h) in faces:\n",
    "            cv2.rectangle(frame, (x, y), (x+w, y+h), (255, 0, 0), 2)\n",
    "        cv2.imshow('Capture Faces', frame)\n",
    "        key = cv2.waitKey(1) & 0xFF\n",
    "        if key == ord('c'):\n",
    "            if len(faces) > 0:\n",
    "                face = gray[y:y+h, x:x+w]\n",
    "                face_resized = cv2.resize(face, (100, 100))\n",
    "                img_path = os.path.join(student_folder, f\"{name}_{count}.jpg\")\n",
    "                cv2.imwrite(img_path, face_resized)\n",
    "                count += 1\n",
    "                print(f\"Captured {count}/{num_images}\")\n",
    "        elif key == ord('q'):\n",
    "            break\n",
    "    cap.release()\n",
    "    cv2.destroyAllWindows()"
   ]
  },
  {
   "cell_type": "code",
   "execution_count": 4,
   "id": "cbce9cfc-454c-47e5-8cfe-488b9db12b3c",
   "metadata": {},
   "outputs": [
    {
     "name": "stdout",
     "output_type": "stream",
     "text": [
      "Capturing 10 images for student1. Press 'c' to capture, 'q' to quit.\n",
      "Captured 1/10\n",
      "Captured 2/10\n",
      "Captured 3/10\n",
      "Captured 4/10\n",
      "Captured 5/10\n"
     ]
    }
   ],
   "source": [
    "# Capture faces for student1 (example - replace 'student1' with actual name if needed)\n",
    "capture_faces('student1', 10)"
   ]
  },
  {
   "cell_type": "code",
   "execution_count": 5,
   "id": "68c60b2e-a24f-4b9a-bc59-5e03af52ab9e",
   "metadata": {},
   "outputs": [
    {
     "name": "stdout",
     "output_type": "stream",
     "text": [
      "Capturing 10 images for student1. Press 'c' to capture, 'q' to quit.\n",
      "Captured 1/10\n",
      "Captured 2/10\n",
      "Captured 3/10\n",
      "Captured 4/10\n",
      "Captured 5/10\n",
      "Captured 6/10\n",
      "Captured 7/10\n",
      "Captured 8/10\n",
      "Captured 9/10\n",
      "Captured 10/10\n"
     ]
    }
   ],
   "source": [
    "# Capture faces for student1 (example - replace 'student1' with actual name if needed)\n",
    "capture_faces('student1', 10)"
   ]
  },
  {
   "cell_type": "code",
   "execution_count": 4,
   "id": "4c8988de-31fd-4fc1-8a9e-1f6b87380fc8",
   "metadata": {},
   "outputs": [
    {
     "name": "stdout",
     "output_type": "stream",
     "text": [
      "Capturing 10 images for shafqat. Press 'c' to capture, 'q' to quit.\n",
      "Captured 1/10\n",
      "Captured 2/10\n",
      "Captured 3/10\n",
      "Captured 4/10\n",
      "Captured 5/10\n",
      "Captured 6/10\n",
      "Captured 7/10\n",
      "Captured 8/10\n",
      "Captured 9/10\n",
      "Captured 10/10\n"
     ]
    }
   ],
   "source": [
    "capture_faces('shafqat', 10)  # Capture 10 images for shafqat\n",
    "# If you have more data, add: capture_faces('student2', 10)"
   ]
  },
  {
   "cell_type": "code",
   "execution_count": 5,
   "id": "71ba8718-477d-48a0-a96e-9a6d6a46346e",
   "metadata": {},
   "outputs": [
    {
     "name": "stdout",
     "output_type": "stream",
     "text": [
      "Capturing 10 images for Salar Abdullah. Press 'c' to capture, 'q' to quit.\n",
      "Captured 1/10\n",
      "Captured 2/10\n",
      "Captured 3/10\n",
      "Captured 4/10\n",
      "Captured 5/10\n",
      "Captured 6/10\n",
      "Captured 7/10\n",
      "Captured 8/10\n",
      "Captured 9/10\n",
      "Captured 10/10\n"
     ]
    }
   ],
   "source": [
    "capture_faces('Salar Abdullah', 10)  # Capture 10 images for Salar Abdullah"
   ]
  },
  {
   "cell_type": "code",
   "execution_count": 6,
   "id": "ebc7c3b5-92dc-492f-a922-99f32535591a",
   "metadata": {},
   "outputs": [
    {
     "name": "stdout",
     "output_type": "stream",
     "text": [
      "Capturing 10 images for Abdul Qayyum. Press 'c' to capture, 'q' to quit.\n",
      "Captured 1/10\n",
      "Captured 2/10\n",
      "Captured 3/10\n",
      "Captured 4/10\n",
      "Captured 5/10\n",
      "Captured 6/10\n",
      "Captured 7/10\n",
      "Captured 8/10\n",
      "Captured 9/10\n",
      "Captured 10/10\n"
     ]
    }
   ],
   "source": [
    "capture_faces('Abdul Qayyum', 10) "
   ]
  },
  {
   "cell_type": "code",
   "execution_count": 7,
   "id": "27924c2a-740a-48a7-8848-f770462c3752",
   "metadata": {},
   "outputs": [
    {
     "name": "stdout",
     "output_type": "stream",
     "text": [
      "Capturing 10 images for Kashif. Press 'c' to capture, 'q' to quit.\n",
      "Captured 1/10\n",
      "Captured 2/10\n",
      "Captured 3/10\n",
      "Captured 4/10\n",
      "Captured 5/10\n",
      "Captured 6/10\n",
      "Captured 7/10\n",
      "Captured 8/10\n",
      "Captured 9/10\n",
      "Captured 10/10\n"
     ]
    }
   ],
   "source": [
    "capture_faces('Kashif', 10) "
   ]
  },
  {
   "cell_type": "code",
   "execution_count": 8,
   "id": "d229d520-ca3e-41bd-bf14-fe383a903a77",
   "metadata": {},
   "outputs": [
    {
     "name": "stdout",
     "output_type": "stream",
     "text": [
      "Capturing 10 images for Zain. Press 'c' to capture, 'q' to quit.\n",
      "Captured 1/10\n",
      "Captured 2/10\n",
      "Captured 3/10\n",
      "Captured 4/10\n",
      "Captured 5/10\n",
      "Captured 6/10\n",
      "Captured 7/10\n",
      "Captured 8/10\n",
      "Captured 9/10\n",
      "Captured 10/10\n"
     ]
    }
   ],
   "source": [
    "capture_faces('Zain', 10) "
   ]
  },
  {
   "cell_type": "code",
   "execution_count": null,
   "id": "755eae8f-cc35-4cb4-849a-3bffd5ec9b6d",
   "metadata": {},
   "outputs": [],
   "source": []
  }
 ],
 "metadata": {
  "kernelspec": {
   "display_name": "Python [conda env:base] *",
   "language": "python",
   "name": "conda-base-py"
  },
  "language_info": {
   "codemirror_mode": {
    "name": "ipython",
    "version": 3
   },
   "file_extension": ".py",
   "mimetype": "text/x-python",
   "name": "python",
   "nbconvert_exporter": "python",
   "pygments_lexer": "ipython3",
   "version": "3.13.5"
  }
 },
 "nbformat": 4,
 "nbformat_minor": 5
}
